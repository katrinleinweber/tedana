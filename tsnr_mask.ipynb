{
 "cells": [
  {
   "cell_type": "markdown",
   "metadata": {},
   "source": [
    "We have two goals:\n",
    "    1. Minimize number of echoes discarded\n",
    "    2. Minimize residuals/maximize TSNR"
   ]
  },
  {
   "cell_type": "code",
   "execution_count": 24,
   "metadata": {},
   "outputs": [],
   "source": [
    "%matplotlib inline\n",
    "from glob import glob\n",
    "import os.path as op\n",
    "\n",
    "import numpy as np\n",
    "import pandas as pd\n",
    "import nibabel as nib\n",
    "import seaborn as sns\n",
    "import matplotlib.pyplot as plt\n",
    "from nilearn.masking import unmask\n",
    "from nilearn.masking import apply_mask\n",
    "\n",
    "sns.set_style('whitegrid')"
   ]
  },
  {
   "cell_type": "code",
   "execution_count": 2,
   "metadata": {},
   "outputs": [],
   "source": [
    "y = np.random.random((1000, 5)) + 5.\n",
    "X = np.random.random((1000, 2))\n",
    "X[:, 0] = 1\n",
    "\n",
    "betas, residuals = np.linalg.lstsq(X, y, rcond=None)[:2]\n",
    "pred_y = np.squeeze(np.dot(X, betas))\n",
    "rmse = np.sqrt(np.mean((pred_y - y) ** 2, axis=0))"
   ]
  },
  {
   "cell_type": "code",
   "execution_count": 3,
   "metadata": {},
   "outputs": [
    {
     "data": {
      "text/plain": [
       "array([79.62441195, 83.46582538, 81.55053269, 78.97325501, 84.34394735])"
      ]
     },
     "execution_count": 3,
     "metadata": {},
     "output_type": "execute_result"
    }
   ],
   "source": [
    "residuals"
   ]
  },
  {
   "cell_type": "code",
   "execution_count": 4,
   "metadata": {},
   "outputs": [
    {
     "data": {
      "text/plain": [
       "array([0.28217798, 0.28890453, 0.28557054, 0.28102181, 0.29042029])"
      ]
     },
     "execution_count": 4,
     "metadata": {},
     "output_type": "execute_result"
    }
   ],
   "source": [
    "rmse"
   ]
  },
  {
   "cell_type": "code",
   "execution_count": 5,
   "metadata": {},
   "outputs": [],
   "source": [
    "mask = nib.load('/Users/tsalo/Documents/tsalo/tedana-comparison/sandbox/test_metrics/adaptive_mask.nii')\n",
    "mask_data = mask.get_data()\n",
    "mask_data = (mask_data != 0).astype(int)\n",
    "mask = nib.Nifti1Image(mask_data, mask.affine)\n",
    "data = apply_mask('/Users/tsalo/Documents/tsalo/tedana-comparison/sandbox/test_metrics/residuals_all.nii',\n",
    "                  mask)"
   ]
  },
  {
   "cell_type": "code",
   "execution_count": 6,
   "metadata": {},
   "outputs": [
    {
     "name": "stdout",
     "output_type": "stream",
     "text": [
      "0.0026733577067541664\n",
      "1.8927206265695924\n",
      "0.04435979202511574\n"
     ]
    }
   ],
   "source": [
    "print(np.min(data))\n",
    "print(np.max(data))\n",
    "print(np.mean(data))"
   ]
  },
  {
   "cell_type": "code",
   "execution_count": 7,
   "metadata": {},
   "outputs": [
    {
     "name": "stdout",
     "output_type": "stream",
     "text": [
      "0.0026733577067541425\n",
      "1.8927206265695924\n",
      "1.8510341922512308\n"
     ]
    }
   ],
   "source": [
    "val = np.min(data) + np.max(data)\n",
    "data2 = np.abs(data - val)\n",
    "print(np.min(data2))\n",
    "print(np.max(data2))\n",
    "print(np.mean(data2))\n",
    "\n",
    "data3 = 1. / np.sqrt(data)\n",
    "data3 = data3 / np.max(data3)"
   ]
  },
  {
   "cell_type": "code",
   "execution_count": 8,
   "metadata": {},
   "outputs": [],
   "source": [
    "img = unmask(data3, mask)\n",
    "img.to_filename('/Users/tsalo/Documents/tsalo/tedana-comparison/sandbox/test_metrics/TEST.nii')"
   ]
  },
  {
   "cell_type": "code",
   "execution_count": 42,
   "metadata": {},
   "outputs": [],
   "source": [
    "t2s = apply_mask('/Users/tsalo/Documents/tsalo/tedana-comparison/sandbox/test_metrics/t2ss.nii',\n",
    "                  mask)\n",
    "t2s = t2s[-1, :]\n",
    "t2s_2 = np.abs(t2s - np.mean(t2s))"
   ]
  },
  {
   "cell_type": "code",
   "execution_count": 43,
   "metadata": {},
   "outputs": [
    {
     "data": {
      "text/plain": [
       "(array([18]), array([21]), array([4]))"
      ]
     },
     "execution_count": 43,
     "metadata": {},
     "output_type": "execute_result"
    }
   ],
   "source": [
    "temp = img.get_data()\n",
    "np.where(temp == np.min(data3))"
   ]
  },
  {
   "cell_type": "code",
   "execution_count": 54,
   "metadata": {},
   "outputs": [
    {
     "data": {
      "text/plain": [
       "0.33213320840309357"
      ]
     },
     "execution_count": 54,
     "metadata": {},
     "output_type": "execute_result"
    }
   ],
   "source": [
    "temp[23, 32, 11]"
   ]
  },
  {
   "cell_type": "code",
   "execution_count": 35,
   "metadata": {},
   "outputs": [],
   "source": [
    "in_dir = '/Users/tsalo/Documents/tsalo/tedana-comparison/sandbox/e5_data/'\n",
    "files = ['sub-01_ses-09_task-flashingcheckerboard_run-01_echo-1_desc-preproc_bold.nii.gz',\n",
    "         'sub-01_ses-09_task-flashingcheckerboard_run-01_echo-2_desc-preproc_bold.nii.gz',\n",
    "         'sub-01_ses-09_task-flashingcheckerboard_run-01_echo-3_desc-preproc_bold.nii.gz',\n",
    "         'sub-01_ses-09_task-flashingcheckerboard_run-01_echo-4_desc-preproc_bold.nii.gz',\n",
    "         'sub-01_ses-09_task-flashingcheckerboard_run-01_echo-5_desc-preproc_bold.nii.gz']\n",
    "files = [op.join(in_dir, f) for f in files]\n",
    "imgs = [nib.load(f) for f in files]\n",
    "echos = [15.4, 29.7, 44.0, 58.3, 72.6]"
   ]
  },
  {
   "cell_type": "code",
   "execution_count": 36,
   "metadata": {},
   "outputs": [],
   "source": [
    "data = np.stack([i.get_data() for i in imgs], -1)"
   ]
  },
  {
   "cell_type": "code",
   "execution_count": 53,
   "metadata": {},
   "outputs": [
    {
     "name": "stderr",
     "output_type": "stream",
     "text": [
      "/Users/tsalo/anaconda/envs/python3/lib/python3.6/site-packages/matplotlib/figure.py:459: UserWarning: matplotlib is currently using a non-GUI backend, so cannot show the figure\n",
      "  \"matplotlib is currently using a non-GUI backend, \"\n"
     ]
    },
    {
     "data": {
      "image/png": "[encoded data removed]",
      "text/plain": [
       "<Figure size 1152x576 with 1 Axes>"
      ]
     },
     "metadata": {},
     "output_type": "display_data"
    }
   ],
   "source": [
    "fig, ax = plt.subplots(figsize=(16, 8))\n",
    "for i in range(data.shape[-1]):\n",
    "    d = data[23, 32, 11, :, i]\n",
    "    ax.scatter([echos[i]] * len(d), d)\n",
    "fig.show()"
   ]
  },
  {
   "cell_type": "code",
   "execution_count": 46,
   "metadata": {},
   "outputs": [],
   "source": [
    "img2 = nib.load('/Users/tsalo/Documents/tsalo/tedana-comparison/sandbox/test_metrics/t2ss.nii')\n",
    "dat2 = img2.get_data()[..., -1]"
   ]
  },
  {
   "cell_type": "code",
   "execution_count": 50,
   "metadata": {},
   "outputs": [
    {
     "data": {
      "text/plain": [
       "6.952233623918121"
      ]
     },
     "execution_count": 50,
     "metadata": {},
     "output_type": "execute_result"
    }
   ],
   "source": [
    "dat2[18, 21, 4]"
   ]
  },
  {
   "cell_type": "code",
   "execution_count": 51,
   "metadata": {},
   "outputs": [
    {
     "data": {
      "text/plain": [
       "(array([23, 25, 26, 26]), array([32, 32, 34, 35]), array([11, 12, 10, 10]))"
      ]
     },
     "execution_count": 51,
     "metadata": {},
     "output_type": "execute_result"
    }
   ],
   "source": [
    "np.where(dat2 < 0)"
   ]
  },
  {
   "cell_type": "code",
   "execution_count": 52,
   "metadata": {},
   "outputs": [
    {
     "data": {
      "text/plain": [
       "-5278.900187819892"
      ]
     },
     "execution_count": 52,
     "metadata": {},
     "output_type": "execute_result"
    }
   ],
   "source": [
    "dat2[23, 32, 11]"
   ]
  },
  {
   "cell_type": "code",
   "execution_count": 55,
   "metadata": {},
   "outputs": [],
   "source": [
    "res_all = nib.load('/Users/tsalo/Documents/tsalo/tedana-comparison/sandbox/test_metrics/residuals_all.nii')\n",
    "res_all = res_all.get_data()"
   ]
  },
  {
   "cell_type": "code",
   "execution_count": 56,
   "metadata": {},
   "outputs": [
    {
     "data": {
      "text/plain": [
       "0.02423441114331593"
      ]
     },
     "execution_count": 56,
     "metadata": {},
     "output_type": "execute_result"
    }
   ],
   "source": [
    "res_all[23, 32, 11]"
   ]
  },
  {
   "cell_type": "code",
   "execution_count": 57,
   "metadata": {},
   "outputs": [
    {
     "data": {
      "text/plain": [
       "1.8927206265695924"
      ]
     },
     "execution_count": 57,
     "metadata": {},
     "output_type": "execute_result"
    }
   ],
   "source": [
    "np.max(res_all)"
   ]
  },
  {
   "cell_type": "code",
   "execution_count": null,
   "metadata": {},
   "outputs": [],
   "source": []
  }
 ],
 "metadata": {
  "kernelspec": {
   "display_name": "Python [conda env:python3]",
   "language": "python",
   "name": "conda-env-python3-py"
  },
  "language_info": {
   "codemirror_mode": {
    "name": "ipython",
    "version": 3
   },
   "file_extension": ".py",
   "mimetype": "text/x-python",
   "name": "python",
   "nbconvert_exporter": "python",
   "pygments_lexer": "ipython3",
   "version": "3.6.4"
  }
 },
 "nbformat": 4,
 "nbformat_minor": 2
}
